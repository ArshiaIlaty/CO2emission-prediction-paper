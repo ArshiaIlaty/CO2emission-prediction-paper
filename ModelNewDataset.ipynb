{
 "cells": [
  {
   "cell_type": "markdown",
   "metadata": {},
   "source": []
  },
  {
   "cell_type": "code",
   "execution_count": 2,
   "metadata": {},
   "outputs": [],
   "source": [
    "import matplotlib.pyplot as plt\n",
    "import pandas as pd\n",
    "import pylab as plfg\n",
    "import numpy as np\n",
    "%matplotlib inlinefadgaddddfafdsdddddd\n",
    "import wget"
   ]
  },
  {
   "cell_type": "code",
   "execution_count": null,
   "metadata": {},
   "outputs": [],
   "source": [
    "# fname= wget.download('CLOUD')"
   ]
  },
  {
   "cell_type": "code",
   "execution_count": 5,
   "metadata": {},
   "outputs": [],
   "source": [
    "# Load your data\n",
    "df = pd.read_excel('C:/Users/ailaty/Desktop/Python Scripts/CO2emission prediction/variation_data.xlsx')\n",
    "\n",
    "# Assuming your data is in a column named 'Values'\n",
    "# Splitting the 'Values' column by comma, accounting for the initial 'CO2 (ppm): ' string\n",
    "data = df['Values'].str.split(',', expand=True)\n",
    "\n",
    "# Handling the 'CO2 (ppm): ' prefix and considering the first value after the prefix as the label\n",
    "labels = data.iloc[:, 1]  # Second column (label)\n",
    "features = data.iloc[:, 2:]  # Remaining columns (features)\n",
    "\n",
    "# Rename columns for clarity (optional step)\n",
    "features.columns = [f'Feature_{i}' for i in range(1, 10)]\n",
    "labels.name = 'Label'\n",
    "\n",
    "# Concatenate features and labels into a new DataFrame\n",
    "df = pd.concat([features, labels], axis=1)\n",
    "\n",
    "# Save the processed data to a new CSV file\n",
    "df.to_csv('newdataset.csv', index=False)"
   ]
  },
  {
   "cell_type": "code",
   "execution_count": 6,
   "metadata": {},
   "outputs": [
    {
     "data": {
      "text/html": [
       "<div>\n",
       "<style scoped>\n",
       "    .dataframe tbody tr th:only-of-type {\n",
       "        vertical-align: middle;\n",
       "    }\n",
       "\n",
       "    .dataframe tbody tr th {\n",
       "        vertical-align: top;\n",
       "    }\n",
       "\n",
       "    .dataframe thead th {\n",
       "        text-align: right;\n",
       "    }\n",
       "</style>\n",
       "<table border=\"1\" class=\"dataframe\">\n",
       "  <thead>\n",
       "    <tr style=\"text-align: right;\">\n",
       "      <th></th>\n",
       "      <th>Feature_1</th>\n",
       "      <th>Feature_2</th>\n",
       "      <th>Feature_3</th>\n",
       "      <th>Feature_4</th>\n",
       "      <th>Feature_5</th>\n",
       "      <th>Feature_6</th>\n",
       "      <th>Feature_7</th>\n",
       "      <th>Feature_8</th>\n",
       "      <th>Feature_9</th>\n",
       "      <th>Label</th>\n",
       "    </tr>\n",
       "  </thead>\n",
       "  <tbody>\n",
       "    <tr>\n",
       "      <th>count</th>\n",
       "      <td>1799</td>\n",
       "      <td>1799</td>\n",
       "      <td>1799</td>\n",
       "      <td>1799</td>\n",
       "      <td>1799</td>\n",
       "      <td>1799</td>\n",
       "      <td>1799</td>\n",
       "      <td>1799</td>\n",
       "      <td>1799</td>\n",
       "      <td>1799</td>\n",
       "    </tr>\n",
       "    <tr>\n",
       "      <th>unique</th>\n",
       "      <td>577</td>\n",
       "      <td>566</td>\n",
       "      <td>562</td>\n",
       "      <td>579</td>\n",
       "      <td>274</td>\n",
       "      <td>309</td>\n",
       "      <td>218</td>\n",
       "      <td>136</td>\n",
       "      <td>253</td>\n",
       "      <td>408</td>\n",
       "    </tr>\n",
       "    <tr>\n",
       "      <th>top</th>\n",
       "      <td>410</td>\n",
       "      <td>581</td>\n",
       "      <td>407</td>\n",
       "      <td>406</td>\n",
       "      <td>410</td>\n",
       "      <td>635</td>\n",
       "      <td>407</td>\n",
       "      <td>404</td>\n",
       "      <td>409</td>\n",
       "      <td>407</td>\n",
       "    </tr>\n",
       "    <tr>\n",
       "      <th>freq</th>\n",
       "      <td>163</td>\n",
       "      <td>33</td>\n",
       "      <td>271</td>\n",
       "      <td>351</td>\n",
       "      <td>196</td>\n",
       "      <td>38</td>\n",
       "      <td>224</td>\n",
       "      <td>235</td>\n",
       "      <td>347</td>\n",
       "      <td>168</td>\n",
       "    </tr>\n",
       "  </tbody>\n",
       "</table>\n",
       "</div>"
      ],
      "text/plain": [
       "       Feature_1 Feature_2 Feature_3 Feature_4 Feature_5 Feature_6 Feature_7  \\\n",
       "count       1799      1799      1799      1799      1799      1799      1799   \n",
       "unique       577       566       562       579       274       309       218   \n",
       "top          410       581       407       406       410       635       407   \n",
       "freq         163        33       271       351       196        38       224   \n",
       "\n",
       "       Feature_8 Feature_9 Label  \n",
       "count       1799      1799  1799  \n",
       "unique       136       253   408  \n",
       "top          404       409   407  \n",
       "freq         235       347   168  "
      ]
     },
     "execution_count": 6,
     "metadata": {},
     "output_type": "execute_result"
    }
   ],
   "source": [
    "# summarize the data\n",
    "df.describe()"
   ]
  },
  {
   "cell_type": "code",
   "execution_count": 7,
   "metadata": {},
   "outputs": [],
   "source": [
    "msk = np.random.rand(len(df)) < 0.8\n",
    "train = df[msk]\n",
    "test = df[~msk]"
   ]
  }
 ],
 "metadata": {
  "kernelspec": {
   "display_name": "Python 3",
   "language": "python",
   "name": "python3"
  },
  "language_info": {
   "codemirror_mode": {
    "name": "ipython",
    "version": 3
   },
   "file_extension": ".py",
   "mimetype": "text/x-python",
   "name": "python",
   "nbconvert_exporter": "python",
   "pygments_lexer": "ipython3",
   "version": "3.11.5"
  }
 },
 "nbformat": 4,
 "nbformat_minor": 2
}
